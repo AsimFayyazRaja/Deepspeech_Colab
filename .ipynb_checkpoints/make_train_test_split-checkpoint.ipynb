{
 "cells": [
  {
   "cell_type": "code",
   "execution_count": 8,
   "metadata": {},
   "outputs": [
    {
     "data": {
      "text/html": [
       "<div>\n",
       "<style scoped>\n",
       "    .dataframe tbody tr th:only-of-type {\n",
       "        vertical-align: middle;\n",
       "    }\n",
       "\n",
       "    .dataframe tbody tr th {\n",
       "        vertical-align: top;\n",
       "    }\n",
       "\n",
       "    .dataframe thead th {\n",
       "        text-align: right;\n",
       "    }\n",
       "</style>\n",
       "<table border=\"1\" class=\"dataframe\">\n",
       "  <thead>\n",
       "    <tr style=\"text-align: right;\">\n",
       "      <th></th>\n",
       "      <th>File_Path</th>\n",
       "      <th>Transcription</th>\n",
       "    </tr>\n",
       "  </thead>\n",
       "  <tbody>\n",
       "    <tr>\n",
       "      <th>0</th>\n",
       "      <td>./audio_chunks/174.wav</td>\n",
       "      <td>understanding of genetic issues in reaction t...</td>\n",
       "    </tr>\n",
       "    <tr>\n",
       "      <th>1</th>\n",
       "      <td>./audio_chunks/175.wav</td>\n",
       "      <td>diseases logistic companies like DHL FedEx ha...</td>\n",
       "    </tr>\n",
       "    <tr>\n",
       "      <th>2</th>\n",
       "      <td>./audio_chunks/176.wav</td>\n",
       "      <td>ship the best suited time to deliver the best...</td>\n",
       "    </tr>\n",
       "    <tr>\n",
       "      <th>3</th>\n",
       "      <td>./audio_chunks/177.wav</td>\n",
       "      <td>leading to cost efficiency with data science ...</td>\n",
       "    </tr>\n",
       "    <tr>\n",
       "      <th>4</th>\n",
       "      <td>./audio_chunks/178.wav</td>\n",
       "      <td>predict employee attrition but to also unders...</td>\n",
       "    </tr>\n",
       "  </tbody>\n",
       "</table>\n",
       "</div>"
      ],
      "text/plain": [
       "                File_Path                                      Transcription\n",
       "0  ./audio_chunks/174.wav   understanding of genetic issues in reaction t...\n",
       "1  ./audio_chunks/175.wav   diseases logistic companies like DHL FedEx ha...\n",
       "2  ./audio_chunks/176.wav   ship the best suited time to deliver the best...\n",
       "3  ./audio_chunks/177.wav   leading to cost efficiency with data science ...\n",
       "4  ./audio_chunks/178.wav   predict employee attrition but to also unders..."
      ]
     },
     "execution_count": 8,
     "metadata": {},
     "output_type": "execute_result"
    }
   ],
   "source": [
    "import pandas as pd\n",
    "import os\n",
    "from tqdm import tqdm\n",
    "import numpy as np\n",
    "\n",
    "\n",
    "data={}\n",
    "data['wav_filename']=[]\n",
    "data['transcript']=[]\n",
    "data['wav_filesize']=[]\n",
    "\n",
    "data_val={}\n",
    "data_val['wav_filename']=[]\n",
    "data_val['transcript']=[]\n",
    "data_val['wav_filesize']=[]\n",
    "\n",
    "\n",
    "df=pd.read_csv('sample_data.csv')  # csv path\n",
    "allowed_chars=set(\"abcdefghijklmnopqrstuvwxyz '\")   # characters allowed in deepspeech\n",
    "\n",
    "df.head()"
   ]
  },
  {
   "cell_type": "code",
   "execution_count": 9,
   "metadata": {},
   "outputs": [
    {
     "name": "stderr",
     "output_type": "stream",
     "text": [
      "100%|██████████| 12/12 [00:00<00:00, 3819.66it/s]\n"
     ]
    }
   ],
   "source": [
    "\n",
    "with tqdm(total=len(df)) as pbar:\n",
    "    for i,row in df.iterrows():\n",
    "        try:\n",
    "            r=np.random.randint(1,36)\n",
    "            transcription=row['Transcription']\n",
    "            transcription=transcription.lower()\n",
    "            transcription=transcription.replace('-',' ')\n",
    "            transcription=transcription.replace('\\n',' ')\n",
    "            \n",
    "            transcription = ''.join(c for c in transcription if c in allowed_chars)\n",
    "            if r%5==0:  # add data in val/test set\n",
    "                data_val['wav_filename'].append(row['File_Path'])      # make dataframe\n",
    "                data_val['transcript'].append(transcription)\n",
    "                data_val['wav_filesize'].append(os.path.getsize(row['File_Path']))\n",
    "            else:\n",
    "                data['wav_filename'].append(row['File_Path'])      # make dataframe\n",
    "                data['transcript'].append(transcription)\n",
    "                data['wav_filesize'].append(os.path.getsize(row['File_Path']))\n",
    "        except Exception as e:\n",
    "            print(\"EXC: \", e)\n",
    "            pass\n",
    "        pbar.update(1)\n",
    "\n",
    "\n",
    "df1=pd.DataFrame(data)\n",
    "df1.to_csv('train.csv')\n",
    "\n",
    "\n",
    "df1=pd.DataFrame(data_val)\n",
    "df1.to_csv('val.csv')\n",
    "\n",
    "df1=pd.DataFrame(data_val)\n",
    "df1.to_csv('test.csv')\n"
   ]
  },
  {
   "cell_type": "code",
   "execution_count": null,
   "metadata": {},
   "outputs": [],
   "source": []
  }
 ],
 "metadata": {
  "kernelspec": {
   "display_name": "Python 3",
   "language": "python",
   "name": "python3"
  },
  "language_info": {
   "codemirror_mode": {
    "name": "ipython",
    "version": 3
   },
   "file_extension": ".py",
   "mimetype": "text/x-python",
   "name": "python",
   "nbconvert_exporter": "python",
   "pygments_lexer": "ipython3",
   "version": "3.6.9"
  }
 },
 "nbformat": 4,
 "nbformat_minor": 4
}
